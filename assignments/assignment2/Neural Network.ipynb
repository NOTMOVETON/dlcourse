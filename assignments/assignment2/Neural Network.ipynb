{
 "cells": [
  {
   "cell_type": "markdown",
   "metadata": {},
   "source": [
    "# Задание 2.1 - Нейронные сети\n",
    "\n",
    "В этом задании вы реализуете и натренируете настоящую нейроную сеть своими руками!\n",
    "\n",
    "В некотором смысле это будет расширением прошлого задания - нам нужно просто составить несколько линейных классификаторов вместе!\n",
    "\n",
    "<img src=\"https://i.redd.it/n9fgba8b0qr01.png\" alt=\"Stack_more_layers\" width=\"400px\"/>"
   ]
  },
  {
   "cell_type": "code",
   "execution_count": 6,
   "metadata": {},
   "outputs": [
    {
     "name": "stdout",
     "output_type": "stream",
     "text": [
      "The autoreload extension is already loaded. To reload it, use:\n",
      "  %reload_ext autoreload\n"
     ]
    }
   ],
   "source": [
    "import numpy as np\n",
    "import matplotlib.pyplot as plt\n",
    "\n",
    "%matplotlib inline\n",
    "\n",
    "%load_ext autoreload\n",
    "%autoreload 2"
   ]
  },
  {
   "cell_type": "code",
   "execution_count": 8,
   "metadata": {},
   "outputs": [],
   "source": [
    "from dataset import load_svhn, random_split_train_val\n",
    "from gradient_check import check_layer_gradient, check_layer_param_gradient, check_model_gradient\n",
    "from layers import FullyConnectedLayer, ReLULayer\n",
    "from model import TwoLayerNet\n",
    "from trainer import Trainer, Dataset\n",
    "from optim import SGD, MomentumSGD\n",
    "from metrics import multiclass_accuracy"
   ]
  },
  {
   "cell_type": "markdown",
   "metadata": {},
   "source": [
    "# Загружаем данные\n",
    "\n",
    "И разделяем их на training и validation."
   ]
  },
  {
   "cell_type": "code",
   "execution_count": 9,
   "metadata": {},
   "outputs": [],
   "source": [
    "def prepare_for_neural_network(train_X, test_X):\n",
    "    train_flat = train_X.reshape(train_X.shape[0], -1).astype(float) / 255.0\n",
    "    test_flat = test_X.reshape(test_X.shape[0], -1).astype(float) / 255.0\n",
    "    \n",
    "    # Subtract mean\n",
    "    mean_image = np.mean(train_flat, axis = 0)\n",
    "    train_flat -= mean_image\n",
    "    test_flat -= mean_image\n",
    "    \n",
    "    return train_flat, test_flat\n",
    "    \n",
    "train_X, train_y, test_X, test_y = load_svhn(\"../../data\", max_train=10000, max_test=1000)    \n",
    "train_X, test_X = prepare_for_neural_network(train_X, test_X)\n",
    "# Split train into train and val\n",
    "train_X, train_y, val_X, val_y = random_split_train_val(train_X, train_y, num_val = 1000)"
   ]
  },
  {
   "cell_type": "markdown",
   "metadata": {},
   "source": [
    "# Как всегда, начинаем с кирпичиков\n",
    "\n",
    "Мы будем реализовывать необходимые нам слои по очереди. Каждый слой должен реализовать:\n",
    "- прямой проход (forward pass), который генерирует выход слоя по входу и запоминает необходимые данные\n",
    "- обратный проход (backward pass), который получает градиент по выходу слоя и вычисляет градиент по входу и по параметрам\n",
    "\n",
    "Начнем с ReLU, у которого параметров нет."
   ]
  },
  {
   "cell_type": "code",
   "execution_count": 10,
   "metadata": {},
   "outputs": [
    {
     "name": "stdout",
     "output_type": "stream",
     "text": [
      "Gradient check passed!\n"
     ]
    }
   ],
   "source": [
    "# TODO: Implement ReLULayer layer in layers.py\n",
    "# Note: you'll need to copy implementation of the gradient_check function from the previous assignment\n",
    "\n",
    "X = np.array([[1,-2,3],\n",
    "              [-1, 2, 0.1]\n",
    "              ])\n",
    "\n",
    "assert check_layer_gradient(ReLULayer(), X)"
   ]
  },
  {
   "cell_type": "markdown",
   "metadata": {},
   "source": [
    "А теперь реализуем полносвязный слой (fully connected layer), у которого будет два массива параметров: W (weights) и B (bias).\n",
    "\n",
    "Все параметры наши слои будут использовать для параметров специальный класс `Param`, в котором будут храниться значения параметров и градиенты этих параметров, вычисляемые во время обратного прохода.\n",
    "\n",
    "Это даст возможность аккумулировать (суммировать) градиенты из разных частей функции потерь, например, из cross-entropy loss и regularization loss."
   ]
  },
  {
   "cell_type": "code",
   "execution_count": 25,
   "metadata": {},
   "outputs": [
    {
     "name": "stdout",
     "output_type": "stream",
     "text": [
      "Gradient check passed!\n",
      "Gradient check passed!\n",
      "Gradient check passed!\n"
     ]
    }
   ],
   "source": [
    "# TODO: Implement FullyConnected layer forward and backward methods\n",
    "assert check_layer_gradient(FullyConnectedLayer(3, 4), X)\n",
    "# TODO: Implement storing gradients for W and B\n",
    "assert check_layer_param_gradient(FullyConnectedLayer(3, 4), X, 'W')\n",
    "assert check_layer_param_gradient(FullyConnectedLayer(3, 4), X, 'B')"
   ]
  },
  {
   "cell_type": "markdown",
   "metadata": {},
   "source": [
    "## Создаем нейронную сеть\n",
    "\n",
    "Теперь мы реализуем простейшую нейронную сеть с двумя полносвязным слоями и нелинейностью ReLU. Реализуйте функцию `compute_loss_and_gradients`, она должна запустить прямой и обратный проход через оба слоя для вычисления градиентов.\n",
    "\n",
    "Не забудьте реализовать очистку градиентов в начале функции."
   ]
  },
  {
   "cell_type": "code",
   "execution_count": 26,
   "metadata": {},
   "outputs": [
    {
     "name": "stdout",
     "output_type": "stream",
     "text": [
      "Checking gradient for w1\n",
      "Gradient check passed!\n",
      "Checking gradient for w2\n",
      "Gradient check passed!\n",
      "Checking gradient for b1\n",
      "Gradient check passed!\n",
      "Checking gradient for b2\n",
      "Gradient check passed!\n"
     ]
    },
    {
     "data": {
      "text/plain": [
       "True"
      ]
     },
     "execution_count": 26,
     "metadata": {},
     "output_type": "execute_result"
    }
   ],
   "source": [
    "# TODO: In model.py, implement compute_loss_and_gradients function\n",
    "model = TwoLayerNet(n_input = train_X.shape[1], n_output = 10, hidden_layer_size = 3, reg = 0)\n",
    "loss = model.compute_loss_and_gradients(train_X[:2], train_y[:2])\n",
    "\n",
    "# TODO Now implement backward pass and aggregate all of the params\n",
    "check_model_gradient(model, train_X[:2], train_y[:2])"
   ]
  },
  {
   "cell_type": "markdown",
   "metadata": {},
   "source": [
    "Теперь добавьте к модели регуляризацию - она должна прибавляться к loss и делать свой вклад в градиенты."
   ]
  },
  {
   "cell_type": "code",
   "execution_count": 27,
   "metadata": {},
   "outputs": [
    {
     "name": "stdout",
     "output_type": "stream",
     "text": [
      "Checking gradient for w1\n",
      "Gradient check passed!\n",
      "Checking gradient for w2\n",
      "Gradient check passed!\n",
      "Checking gradient for b1\n",
      "Gradient check passed!\n",
      "Checking gradient for b2\n",
      "Gradient check passed!\n"
     ]
    },
    {
     "data": {
      "text/plain": [
       "True"
      ]
     },
     "execution_count": 27,
     "metadata": {},
     "output_type": "execute_result"
    }
   ],
   "source": [
    "# TODO Now implement l2 regularization in the forward and backward pass\n",
    "model_with_reg = TwoLayerNet(n_input = train_X.shape[1], n_output = 10, hidden_layer_size = 3, reg = 1e1)\n",
    "loss_with_reg = model_with_reg.compute_loss_and_gradients(train_X[:2], train_y[:2])\n",
    "assert loss_with_reg > loss and not np.isclose(loss_with_reg, loss), \\\n",
    "    \"Loss with regularization (%2.4f) should be higher than without it (%2.4f)!\" % (loss, loss_with_reg)\n",
    "\n",
    "check_model_gradient(model_with_reg, train_X[:2], train_y[:2])"
   ]
  },
  {
   "cell_type": "markdown",
   "metadata": {},
   "source": [
    "Также реализуем функцию предсказания (вычисления значения) модели на новых данных.\n",
    "\n",
    "Какое значение точности мы ожидаем увидеть до начала тренировки?"
   ]
  },
  {
   "cell_type": "code",
   "execution_count": 28,
   "metadata": {},
   "outputs": [
    {
     "data": {
      "text/plain": [
       "0.06666666666666667"
      ]
     },
     "execution_count": 28,
     "metadata": {},
     "output_type": "execute_result"
    }
   ],
   "source": [
    "# Finally, implement predict function!\n",
    "\n",
    "# TODO: Implement predict function\n",
    "# What would be the value we expect?\n",
    "multiclass_accuracy(model_with_reg.predict(train_X[:30]), train_y[:30]) "
   ]
  },
  {
   "cell_type": "markdown",
   "metadata": {},
   "source": [
    "# Допишем код для процесса тренировки\n",
    "\n",
    "Если все реализовано корректно, значение функции ошибки должно уменьшаться с каждой эпохой, пусть и медленно. Не беспокойтесь пока про validation accuracy."
   ]
  },
  {
   "cell_type": "code",
   "execution_count": 29,
   "metadata": {},
   "outputs": [
    {
     "name": "stdout",
     "output_type": "stream",
     "text": [
      "Loss: 2.301004, Train accuracy: 0.196667, val accuracy: 0.206000\n",
      "Loss: 2.302336, Train accuracy: 0.196667, val accuracy: 0.206000\n",
      "Loss: 2.302206, Train accuracy: 0.196667, val accuracy: 0.206000\n",
      "Loss: 2.302046, Train accuracy: 0.196667, val accuracy: 0.206000\n",
      "Loss: 2.302020, Train accuracy: 0.196667, val accuracy: 0.206000\n",
      "Loss: 2.302829, Train accuracy: 0.196667, val accuracy: 0.206000\n",
      "Loss: 2.302121, Train accuracy: 0.196667, val accuracy: 0.206000\n",
      "Loss: 2.302322, Train accuracy: 0.196667, val accuracy: 0.206000\n",
      "Loss: 2.302105, Train accuracy: 0.114222, val accuracy: 0.147000\n",
      "Loss: 2.302548, Train accuracy: 0.196667, val accuracy: 0.206000\n",
      "Loss: 2.302534, Train accuracy: 0.196667, val accuracy: 0.206000\n",
      "Loss: 2.302898, Train accuracy: 0.114222, val accuracy: 0.147000\n",
      "Loss: 2.302365, Train accuracy: 0.196667, val accuracy: 0.206000\n",
      "Loss: 2.302843, Train accuracy: 0.196667, val accuracy: 0.206000\n",
      "Loss: 2.300734, Train accuracy: 0.196667, val accuracy: 0.206000\n",
      "Loss: 2.301734, Train accuracy: 0.196667, val accuracy: 0.206000\n",
      "Loss: 2.301940, Train accuracy: 0.196667, val accuracy: 0.206000\n",
      "Loss: 2.302110, Train accuracy: 0.196667, val accuracy: 0.206000\n",
      "Loss: 2.303430, Train accuracy: 0.196667, val accuracy: 0.206000\n",
      "Loss: 2.303063, Train accuracy: 0.196667, val accuracy: 0.206000\n"
     ]
    }
   ],
   "source": [
    "model = TwoLayerNet(n_input = train_X.shape[1], n_output = 10, hidden_layer_size = 100, reg = 1e1)\n",
    "dataset = Dataset(train_X, train_y, val_X, val_y)\n",
    "trainer = Trainer(model, dataset, SGD(), learning_rate = 1e-2)\n",
    "\n",
    "# TODO Implement missing pieces in Trainer.fit function\n",
    "# You should expect loss to go down every epoch, even if it's slow\n",
    "loss_history, train_history, val_history = trainer.fit()"
   ]
  },
  {
   "cell_type": "code",
   "execution_count": 30,
   "metadata": {},
   "outputs": [
    {
     "data": {
      "text/plain": [
       "[<matplotlib.lines.Line2D at 0x2dd056fc1c0>]"
      ]
     },
     "execution_count": 30,
     "metadata": {},
     "output_type": "execute_result"
    },
    {
     "data": {
      "image/png": "[encoded data removed]",
      "text/plain": [
       "<Figure size 432x288 with 1 Axes>"
      ]
     },
     "metadata": {
      "needs_background": "light"
     },
     "output_type": "display_data"
    }
   ],
   "source": [
    "plt.plot(train_history)\n",
    "plt.plot(val_history)"
   ]
  },
  {
   "cell_type": "markdown",
   "metadata": {},
   "source": [
    "# Улучшаем процесс тренировки\n",
    "\n",
    "Мы реализуем несколько ключевых оптимизаций, необходимых для тренировки современных нейросетей."
   ]
  },
  {
   "cell_type": "markdown",
   "metadata": {},
   "source": [
    "## Уменьшение скорости обучения (learning rate decay)\n",
    "\n",
    "Одна из необходимых оптимизаций во время тренировки нейронных сетей - постепенное уменьшение скорости обучения по мере тренировки.\n",
    "\n",
    "Один из стандартных методов - уменьшение скорости обучения (learning rate) каждые N эпох на коэффициент d (часто называемый decay). Значения N и d, как всегда, являются гиперпараметрами и должны подбираться на основе эффективности на проверочных данных (validation data). \n",
    "\n",
    "В нашем случае N будет равным 1."
   ]
  },
  {
   "cell_type": "code",
   "execution_count": 31,
   "metadata": {},
   "outputs": [
    {
     "name": "stdout",
     "output_type": "stream",
     "text": [
      "Loss: 2.318126, Train accuracy: 0.196667, val accuracy: 0.206000\n",
      "Loss: 2.324036, Train accuracy: 0.196667, val accuracy: 0.206000\n",
      "Loss: 2.336877, Train accuracy: 0.196667, val accuracy: 0.206000\n",
      "Loss: 2.312723, Train accuracy: 0.196667, val accuracy: 0.206000\n",
      "Loss: 2.269800, Train accuracy: 0.196667, val accuracy: 0.206000\n",
      "Loss: 2.238607, Train accuracy: 0.196667, val accuracy: 0.206000\n",
      "Loss: 2.264151, Train accuracy: 0.196667, val accuracy: 0.206000\n",
      "Loss: 2.335841, Train accuracy: 0.196667, val accuracy: 0.206000\n",
      "Loss: 2.252673, Train accuracy: 0.196667, val accuracy: 0.206000\n",
      "Loss: 2.297973, Train accuracy: 0.196667, val accuracy: 0.206000\n",
      "Loss: 2.279780, Train accuracy: 0.196667, val accuracy: 0.206000\n",
      "Loss: 2.237056, Train accuracy: 0.196667, val accuracy: 0.206000\n",
      "Loss: 2.201364, Train accuracy: 0.196667, val accuracy: 0.206000\n",
      "Loss: 2.293530, Train accuracy: 0.196667, val accuracy: 0.206000\n",
      "Loss: 2.264892, Train accuracy: 0.196667, val accuracy: 0.206000\n",
      "Loss: 2.270953, Train accuracy: 0.196667, val accuracy: 0.206000\n",
      "Loss: 2.360514, Train accuracy: 0.196667, val accuracy: 0.206000\n",
      "Loss: 2.210671, Train accuracy: 0.196667, val accuracy: 0.206000\n",
      "Loss: 2.326824, Train accuracy: 0.196667, val accuracy: 0.206000\n",
      "Loss: 2.273976, Train accuracy: 0.196667, val accuracy: 0.206000\n"
     ]
    }
   ],
   "source": [
    "# TODO Implement learning rate decay inside Trainer.fit method\n",
    "# Decay should happen once per epoch\n",
    "\n",
    "model = TwoLayerNet(n_input = train_X.shape[1], n_output = 10, hidden_layer_size = 100, reg = 1e-1)\n",
    "dataset = Dataset(train_X, train_y, val_X, val_y)\n",
    "trainer = Trainer(model, dataset, SGD(), learning_rate_decay=0.99)\n",
    "\n",
    "initial_learning_rate = trainer.learning_rate\n",
    "loss_history, train_history, val_history = trainer.fit()\n",
    "\n",
    "assert trainer.learning_rate < initial_learning_rate, \"Learning rate should've been reduced\"\n",
    "assert trainer.learning_rate > 0.5*initial_learning_rate, \"Learning rate shouldn'tve been reduced that much!\""
   ]
  },
  {
   "cell_type": "markdown",
   "metadata": {},
   "source": [
    "# Накопление импульса (Momentum SGD)\n",
    "\n",
    "Другой большой класс оптимизаций - использование более эффективных методов градиентного спуска. Мы реализуем один из них - накопление импульса (Momentum SGD).\n",
    "\n",
    "Этот метод хранит скорость движения, использует градиент для ее изменения на каждом шаге, и изменяет веса пропорционально значению скорости.\n",
    "(Физическая аналогия: Вместо скорости градиенты теперь будут задавать ускорение, но будет присутствовать сила трения.)\n",
    "\n",
    "```\n",
    "velocity = momentum * velocity - learning_rate * gradient \n",
    "w = w + velocity\n",
    "```\n",
    "\n",
    "`momentum` здесь коэффициент затухания, который тоже является гиперпараметром (к счастью, для него часто есть хорошее значение по умолчанию, типичный диапазон -- 0.8-0.99).\n",
    "\n",
    "Несколько полезных ссылок, где метод разбирается более подробно:  \n",
    "http://cs231n.github.io/neural-networks-3/#sgd  \n",
    "https://distill.pub/2017/momentum/"
   ]
  },
  {
   "cell_type": "code",
   "execution_count": 35,
   "metadata": {},
   "outputs": [
    {
     "name": "stdout",
     "output_type": "stream",
     "text": [
      "Loss: 2.319307, Train accuracy: 0.196667, val accuracy: 0.206000\n",
      "Loss: 2.312323, Train accuracy: 0.196667, val accuracy: 0.206000\n",
      "Loss: 2.322443, Train accuracy: 0.196667, val accuracy: 0.206000\n",
      "Loss: 2.263108, Train accuracy: 0.196667, val accuracy: 0.206000\n",
      "Loss: 2.298041, Train accuracy: 0.196667, val accuracy: 0.206000\n",
      "Loss: 2.295488, Train accuracy: 0.196667, val accuracy: 0.206000\n",
      "Loss: 2.269131, Train accuracy: 0.196667, val accuracy: 0.206000\n",
      "Loss: 2.302685, Train accuracy: 0.196667, val accuracy: 0.206000\n",
      "Loss: 2.301756, Train accuracy: 0.196667, val accuracy: 0.206000\n",
      "Loss: 2.295503, Train accuracy: 0.196667, val accuracy: 0.206000\n",
      "Loss: 2.281027, Train accuracy: 0.196667, val accuracy: 0.206000\n",
      "Loss: 2.292290, Train accuracy: 0.196667, val accuracy: 0.206000\n",
      "Loss: 2.307537, Train accuracy: 0.196667, val accuracy: 0.206000\n",
      "Loss: 2.273771, Train accuracy: 0.196667, val accuracy: 0.206000\n",
      "Loss: 2.278122, Train accuracy: 0.196667, val accuracy: 0.206000\n",
      "Loss: 2.261987, Train accuracy: 0.196667, val accuracy: 0.206000\n",
      "Loss: 2.235108, Train accuracy: 0.196667, val accuracy: 0.206000\n",
      "Loss: 2.340198, Train accuracy: 0.196667, val accuracy: 0.206000\n",
      "Loss: 2.281818, Train accuracy: 0.196667, val accuracy: 0.206000\n",
      "Loss: 2.283882, Train accuracy: 0.196667, val accuracy: 0.206000\n"
     ]
    }
   ],
   "source": [
    "# TODO: Implement MomentumSGD.update function in optim.py\n",
    "\n",
    "model = TwoLayerNet(n_input = train_X.shape[1], n_output = 10, hidden_layer_size = 100, reg = 1e-1)\n",
    "dataset = Dataset(train_X, train_y, val_X, val_y)\n",
    "trainer = Trainer(model, dataset, MomentumSGD(), learning_rate=1e-4, learning_rate_decay=0.99)\n",
    "\n",
    "# You should see even better results than before!\n",
    "loss_history, train_history, val_history = trainer.fit()"
   ]
  },
  {
   "cell_type": "markdown",
   "metadata": {},
   "source": [
    "# Ну что, давайте уже тренировать сеть!"
   ]
  },
  {
   "cell_type": "markdown",
   "metadata": {},
   "source": [
    "## Последний тест - переобучимся (overfit) на маленьком наборе данных\n",
    "\n",
    "Хороший способ проверить, все ли реализовано корректно - переобучить сеть на маленьком наборе данных.  \n",
    "Наша модель обладает достаточной мощностью, чтобы приблизить маленький набор данных идеально, поэтому мы ожидаем, что на нем мы быстро дойдем до 100% точности на тренировочном наборе. \n",
    "\n",
    "Если этого не происходит, то где-то была допущена ошибка!"
   ]
  },
  {
   "cell_type": "code",
   "execution_count": 36,
   "metadata": {},
   "outputs": [
    {
     "name": "stdout",
     "output_type": "stream",
     "text": [
      "Loss: 2.335738, Train accuracy: 0.200000, val accuracy: 0.066667\n",
      "Loss: 2.320542, Train accuracy: 0.333333, val accuracy: 0.066667\n",
      "Loss: 2.332754, Train accuracy: 0.200000, val accuracy: 0.133333\n",
      "Loss: 2.281658, Train accuracy: 0.200000, val accuracy: 0.133333\n",
      "Loss: 2.293447, Train accuracy: 0.200000, val accuracy: 0.133333\n",
      "Loss: 2.305892, Train accuracy: 0.266667, val accuracy: 0.000000\n",
      "Loss: 2.336132, Train accuracy: 0.266667, val accuracy: 0.000000\n",
      "Loss: 2.280302, Train accuracy: 0.266667, val accuracy: 0.000000\n",
      "Loss: 2.283314, Train accuracy: 0.266667, val accuracy: 0.000000\n",
      "Loss: 2.241938, Train accuracy: 0.400000, val accuracy: 0.000000\n",
      "Loss: 2.041604, Train accuracy: 0.400000, val accuracy: 0.000000\n",
      "Loss: 1.955679, Train accuracy: 0.400000, val accuracy: 0.000000\n",
      "Loss: 1.596983, Train accuracy: 0.400000, val accuracy: 0.000000\n",
      "Loss: 2.098300, Train accuracy: 0.333333, val accuracy: 0.000000\n",
      "Loss: 1.880894, Train accuracy: 0.333333, val accuracy: 0.000000\n",
      "Loss: 1.771536, Train accuracy: 0.333333, val accuracy: 0.000000\n",
      "Loss: 2.395213, Train accuracy: 0.333333, val accuracy: 0.000000\n",
      "Loss: 2.284027, Train accuracy: 0.400000, val accuracy: 0.000000\n",
      "Loss: 1.573697, Train accuracy: 0.400000, val accuracy: 0.000000\n",
      "Loss: 2.025960, Train accuracy: 0.466667, val accuracy: 0.000000\n",
      "Loss: 1.569521, Train accuracy: 0.400000, val accuracy: 0.000000\n",
      "Loss: 2.428408, Train accuracy: 0.466667, val accuracy: 0.000000\n",
      "Loss: 1.833313, Train accuracy: 0.466667, val accuracy: 0.066667\n",
      "Loss: 1.475478, Train accuracy: 0.400000, val accuracy: 0.066667\n",
      "Loss: 1.230051, Train accuracy: 0.466667, val accuracy: 0.000000\n",
      "Loss: 1.817895, Train accuracy: 0.466667, val accuracy: 0.000000\n",
      "Loss: 1.427157, Train accuracy: 0.466667, val accuracy: 0.000000\n",
      "Loss: 1.830274, Train accuracy: 0.466667, val accuracy: 0.000000\n",
      "Loss: 1.411147, Train accuracy: 0.466667, val accuracy: 0.000000\n",
      "Loss: 1.663745, Train accuracy: 0.466667, val accuracy: 0.066667\n",
      "Loss: 1.839950, Train accuracy: 0.533333, val accuracy: 0.066667\n",
      "Loss: 1.241866, Train accuracy: 0.466667, val accuracy: 0.066667\n",
      "Loss: 2.038323, Train accuracy: 0.533333, val accuracy: 0.066667\n",
      "Loss: 1.966023, Train accuracy: 0.666667, val accuracy: 0.066667\n",
      "Loss: 2.106896, Train accuracy: 0.600000, val accuracy: 0.066667\n",
      "Loss: 1.744617, Train accuracy: 0.666667, val accuracy: 0.000000\n",
      "Loss: 1.569718, Train accuracy: 0.666667, val accuracy: 0.066667\n",
      "Loss: 2.098353, Train accuracy: 0.666667, val accuracy: 0.066667\n",
      "Loss: 1.706175, Train accuracy: 0.666667, val accuracy: 0.066667\n",
      "Loss: 1.919851, Train accuracy: 0.666667, val accuracy: 0.000000\n",
      "Loss: 2.015580, Train accuracy: 0.666667, val accuracy: 0.066667\n",
      "Loss: 1.611320, Train accuracy: 0.666667, val accuracy: 0.000000\n",
      "Loss: 1.816897, Train accuracy: 0.666667, val accuracy: 0.000000\n",
      "Loss: 1.899937, Train accuracy: 0.733333, val accuracy: 0.066667\n",
      "Loss: 2.092100, Train accuracy: 0.733333, val accuracy: 0.066667\n",
      "Loss: 1.625375, Train accuracy: 0.733333, val accuracy: 0.133333\n",
      "Loss: 1.693379, Train accuracy: 0.733333, val accuracy: 0.066667\n",
      "Loss: 1.638787, Train accuracy: 0.733333, val accuracy: 0.066667\n",
      "Loss: 1.826651, Train accuracy: 0.733333, val accuracy: 0.066667\n",
      "Loss: 1.346194, Train accuracy: 0.666667, val accuracy: 0.000000\n",
      "Loss: 1.442347, Train accuracy: 0.733333, val accuracy: 0.066667\n",
      "Loss: 1.557477, Train accuracy: 0.733333, val accuracy: 0.133333\n",
      "Loss: 1.547444, Train accuracy: 0.733333, val accuracy: 0.133333\n",
      "Loss: 1.030406, Train accuracy: 0.733333, val accuracy: 0.000000\n",
      "Loss: 1.433627, Train accuracy: 0.733333, val accuracy: 0.066667\n",
      "Loss: 1.651652, Train accuracy: 0.733333, val accuracy: 0.066667\n",
      "Loss: 2.038005, Train accuracy: 0.733333, val accuracy: 0.066667\n",
      "Loss: 1.601475, Train accuracy: 0.733333, val accuracy: 0.066667\n",
      "Loss: 1.218782, Train accuracy: 0.733333, val accuracy: 0.066667\n",
      "Loss: 1.208324, Train accuracy: 0.733333, val accuracy: 0.066667\n",
      "Loss: 1.456453, Train accuracy: 0.733333, val accuracy: 0.066667\n",
      "Loss: 1.165264, Train accuracy: 0.800000, val accuracy: 0.000000\n",
      "Loss: 1.441678, Train accuracy: 0.733333, val accuracy: 0.066667\n",
      "Loss: 1.647909, Train accuracy: 0.733333, val accuracy: 0.066667\n",
      "Loss: 1.249818, Train accuracy: 0.733333, val accuracy: 0.066667\n",
      "Loss: 1.631549, Train accuracy: 0.800000, val accuracy: 0.066667\n",
      "Loss: 1.299927, Train accuracy: 0.800000, val accuracy: 0.066667\n",
      "Loss: 0.985124, Train accuracy: 0.866667, val accuracy: 0.066667\n",
      "Loss: 0.952840, Train accuracy: 0.866667, val accuracy: 0.066667\n",
      "Loss: 1.339579, Train accuracy: 0.866667, val accuracy: 0.066667\n",
      "Loss: 1.869590, Train accuracy: 0.866667, val accuracy: 0.066667\n",
      "Loss: 1.635224, Train accuracy: 0.866667, val accuracy: 0.066667\n",
      "Loss: 1.638307, Train accuracy: 0.866667, val accuracy: 0.066667\n",
      "Loss: 1.590561, Train accuracy: 0.866667, val accuracy: 0.066667\n",
      "Loss: 1.317051, Train accuracy: 0.866667, val accuracy: 0.066667\n",
      "Loss: 1.577163, Train accuracy: 0.866667, val accuracy: 0.066667\n",
      "Loss: 1.580478, Train accuracy: 0.866667, val accuracy: 0.066667\n",
      "Loss: 1.335753, Train accuracy: 0.866667, val accuracy: 0.066667\n",
      "Loss: 1.266600, Train accuracy: 0.866667, val accuracy: 0.066667\n",
      "Loss: 1.601903, Train accuracy: 0.866667, val accuracy: 0.066667\n",
      "Loss: 0.961404, Train accuracy: 0.866667, val accuracy: 0.066667\n",
      "Loss: 1.321742, Train accuracy: 0.866667, val accuracy: 0.066667\n",
      "Loss: 1.045785, Train accuracy: 0.866667, val accuracy: 0.066667\n",
      "Loss: 1.518883, Train accuracy: 0.866667, val accuracy: 0.066667\n",
      "Loss: 1.326475, Train accuracy: 0.866667, val accuracy: 0.066667\n",
      "Loss: 1.764562, Train accuracy: 0.866667, val accuracy: 0.000000\n",
      "Loss: 1.554416, Train accuracy: 0.866667, val accuracy: 0.000000\n",
      "Loss: 1.148813, Train accuracy: 0.866667, val accuracy: 0.066667\n",
      "Loss: 1.296730, Train accuracy: 0.933333, val accuracy: 0.000000\n",
      "Loss: 1.328705, Train accuracy: 0.933333, val accuracy: 0.000000\n",
      "Loss: 1.704808, Train accuracy: 0.933333, val accuracy: 0.000000\n",
      "Loss: 1.233548, Train accuracy: 0.933333, val accuracy: 0.000000\n",
      "Loss: 1.075459, Train accuracy: 0.933333, val accuracy: 0.000000\n",
      "Loss: 1.496978, Train accuracy: 0.933333, val accuracy: 0.000000\n",
      "Loss: 1.499416, Train accuracy: 0.933333, val accuracy: 0.000000\n",
      "Loss: 1.104258, Train accuracy: 0.933333, val accuracy: 0.000000\n",
      "Loss: 1.385010, Train accuracy: 0.933333, val accuracy: 0.000000\n",
      "Loss: 1.588176, Train accuracy: 0.933333, val accuracy: 0.000000\n",
      "Loss: 1.294435, Train accuracy: 0.933333, val accuracy: 0.000000\n",
      "Loss: 1.098950, Train accuracy: 0.933333, val accuracy: 0.000000\n",
      "Loss: 1.393818, Train accuracy: 0.933333, val accuracy: 0.000000\n",
      "Loss: 1.336367, Train accuracy: 0.933333, val accuracy: 0.000000\n",
      "Loss: 1.148558, Train accuracy: 0.933333, val accuracy: 0.000000\n",
      "Loss: 1.688127, Train accuracy: 0.933333, val accuracy: 0.000000\n",
      "Loss: 1.212986, Train accuracy: 0.933333, val accuracy: 0.000000\n",
      "Loss: 1.207854, Train accuracy: 0.933333, val accuracy: 0.000000\n",
      "Loss: 1.208386, Train accuracy: 1.000000, val accuracy: 0.000000\n",
      "Loss: 1.529944, Train accuracy: 1.000000, val accuracy: 0.000000\n",
      "Loss: 1.092172, Train accuracy: 1.000000, val accuracy: 0.000000\n",
      "Loss: 1.325101, Train accuracy: 1.000000, val accuracy: 0.000000\n",
      "Loss: 1.261021, Train accuracy: 1.000000, val accuracy: 0.000000\n",
      "Loss: 1.318570, Train accuracy: 1.000000, val accuracy: 0.000000\n",
      "Loss: 1.155004, Train accuracy: 1.000000, val accuracy: 0.000000\n",
      "Loss: 1.332892, Train accuracy: 1.000000, val accuracy: 0.000000\n",
      "Loss: 1.402500, Train accuracy: 1.000000, val accuracy: 0.000000\n",
      "Loss: 1.224852, Train accuracy: 1.000000, val accuracy: 0.000000\n",
      "Loss: 1.557465, Train accuracy: 1.000000, val accuracy: 0.000000\n",
      "Loss: 1.398652, Train accuracy: 1.000000, val accuracy: 0.000000\n",
      "Loss: 1.263280, Train accuracy: 1.000000, val accuracy: 0.000000\n",
      "Loss: 1.451032, Train accuracy: 1.000000, val accuracy: 0.000000\n",
      "Loss: 1.469137, Train accuracy: 1.000000, val accuracy: 0.000000\n",
      "Loss: 1.351304, Train accuracy: 1.000000, val accuracy: 0.000000\n",
      "Loss: 1.178948, Train accuracy: 1.000000, val accuracy: 0.000000\n",
      "Loss: 1.106081, Train accuracy: 1.000000, val accuracy: 0.000000\n",
      "Loss: 1.378770, Train accuracy: 1.000000, val accuracy: 0.000000\n",
      "Loss: 1.162889, Train accuracy: 1.000000, val accuracy: 0.000000\n",
      "Loss: 1.122162, Train accuracy: 1.000000, val accuracy: 0.000000\n",
      "Loss: 1.255156, Train accuracy: 1.000000, val accuracy: 0.000000\n",
      "Loss: 1.227546, Train accuracy: 1.000000, val accuracy: 0.000000\n",
      "Loss: 1.219853, Train accuracy: 1.000000, val accuracy: 0.000000\n",
      "Loss: 1.372320, Train accuracy: 1.000000, val accuracy: 0.000000\n",
      "Loss: 1.205831, Train accuracy: 1.000000, val accuracy: 0.000000\n",
      "Loss: 1.082531, Train accuracy: 1.000000, val accuracy: 0.000000\n",
      "Loss: 1.568287, Train accuracy: 1.000000, val accuracy: 0.000000\n",
      "Loss: 1.374564, Train accuracy: 1.000000, val accuracy: 0.000000\n",
      "Loss: 1.386135, Train accuracy: 1.000000, val accuracy: 0.000000\n",
      "Loss: 1.410904, Train accuracy: 1.000000, val accuracy: 0.000000\n",
      "Loss: 1.490287, Train accuracy: 1.000000, val accuracy: 0.000000\n",
      "Loss: 1.319655, Train accuracy: 1.000000, val accuracy: 0.000000\n",
      "Loss: 1.353822, Train accuracy: 1.000000, val accuracy: 0.000000\n",
      "Loss: 1.259074, Train accuracy: 1.000000, val accuracy: 0.000000\n",
      "Loss: 1.121651, Train accuracy: 1.000000, val accuracy: 0.000000\n",
      "Loss: 1.132036, Train accuracy: 1.000000, val accuracy: 0.000000\n",
      "Loss: 1.430936, Train accuracy: 1.000000, val accuracy: 0.000000\n",
      "Loss: 1.419862, Train accuracy: 1.000000, val accuracy: 0.000000\n",
      "Loss: 1.359021, Train accuracy: 1.000000, val accuracy: 0.000000\n",
      "Loss: 1.177139, Train accuracy: 1.000000, val accuracy: 0.000000\n",
      "Loss: 1.142865, Train accuracy: 1.000000, val accuracy: 0.000000\n",
      "Loss: 1.406840, Train accuracy: 1.000000, val accuracy: 0.000000\n",
      "Loss: 1.258317, Train accuracy: 1.000000, val accuracy: 0.000000\n"
     ]
    }
   ],
   "source": [
    "data_size = 15\n",
    "model = TwoLayerNet(n_input = train_X.shape[1], n_output = 10, hidden_layer_size = 100, reg = 1e-1)\n",
    "dataset = Dataset(train_X[:data_size], train_y[:data_size], val_X[:data_size], val_y[:data_size])\n",
    "trainer = Trainer(model, dataset, SGD(), learning_rate=1e-1, num_epochs=150, batch_size=5)\n",
    "\n",
    "# You should expect this to reach 1.0 training accuracy \n",
    "loss_history, train_history, val_history = trainer.fit()"
   ]
  },
  {
   "cell_type": "markdown",
   "metadata": {},
   "source": [
    "Теперь найдем гипепараметры, для которых этот процесс сходится быстрее.\n",
    "Если все реализовано корректно, то существуют параметры, при которых процесс сходится в **20** эпох или еще быстрее.\n",
    "Найдите их!"
   ]
  },
  {
   "cell_type": "code",
   "execution_count": 69,
   "metadata": {},
   "outputs": [
    {
     "name": "stdout",
     "output_type": "stream",
     "text": [
      "Loss: 2.348143, Train accuracy: 0.200000, val accuracy: 0.066667\n",
      "Loss: 2.302351, Train accuracy: 0.200000, val accuracy: 0.066667\n",
      "Loss: 2.238445, Train accuracy: 0.333333, val accuracy: 0.066667\n",
      "Loss: 2.193072, Train accuracy: 0.400000, val accuracy: 0.000000\n",
      "Loss: 2.007798, Train accuracy: 0.333333, val accuracy: 0.066667\n",
      "Loss: 2.114472, Train accuracy: 0.333333, val accuracy: 0.000000\n",
      "Loss: 2.477919, Train accuracy: 0.466667, val accuracy: 0.066667\n",
      "Loss: 1.833902, Train accuracy: 0.400000, val accuracy: 0.066667\n",
      "Loss: 2.367405, Train accuracy: 0.400000, val accuracy: 0.000000\n",
      "Loss: 1.369185, Train accuracy: 0.466667, val accuracy: 0.000000\n",
      "Loss: 1.474017, Train accuracy: 0.600000, val accuracy: 0.066667\n",
      "Loss: 1.341211, Train accuracy: 0.666667, val accuracy: 0.066667\n",
      "Loss: 1.522477, Train accuracy: 0.733333, val accuracy: 0.000000\n",
      "Loss: 2.213195, Train accuracy: 0.666667, val accuracy: 0.066667\n",
      "Loss: 1.999163, Train accuracy: 0.733333, val accuracy: 0.000000\n",
      "Loss: 2.599418, Train accuracy: 0.666667, val accuracy: 0.000000\n",
      "Loss: 3.164965, Train accuracy: 0.733333, val accuracy: 0.133333\n",
      "Loss: 2.264320, Train accuracy: 0.800000, val accuracy: 0.000000\n",
      "Loss: 2.342375, Train accuracy: 0.800000, val accuracy: 0.066667\n",
      "Loss: 2.708419, Train accuracy: 1.000000, val accuracy: 0.066667\n"
     ]
    }
   ],
   "source": [
    "# Now, tweak some hyper parameters and make it train to 1.0 accuracy in 20 epochs or less\n",
    "\n",
    "model = TwoLayerNet(n_input = train_X.shape[1], n_output = 10, hidden_layer_size = 100, reg = 1e-1)\n",
    "dataset = Dataset(train_X[:data_size], train_y[:data_size], val_X[:data_size], val_y[:data_size])\n",
    "# TODO: Change any hyperparamers or optimizators to reach training accuracy in 20 epochs\n",
    "trainer = Trainer(model, dataset, MomentumSGD(0.2), learning_rate=1e-1, num_epochs=20, batch_size=5)\n",
    "\n",
    "loss_history, train_history, val_history = trainer.fit()"
   ]
  },
  {
   "cell_type": "markdown",
   "metadata": {},
   "source": [
    "# Итак, основное мероприятие!\n",
    "\n",
    "Натренируйте лучшую нейросеть! Можно добавлять и изменять параметры, менять количество нейронов в слоях сети и как угодно экспериментировать. \n",
    "\n",
    "Добейтесь точности лучше **60%** на validation set."
   ]
  },
  {
   "cell_type": "code",
   "execution_count": 70,
   "metadata": {
    "scrolled": true
   },
   "outputs": [
    {
     "name": "stdout",
     "output_type": "stream",
     "text": [
      "\n",
      "Cycle 1...\n",
      "Loss: 1.942140, Train accuracy: 0.341000, val accuracy: 0.350000\n",
      "Loss: 1.187935, Train accuracy: 0.536556, val accuracy: 0.527000\n",
      "Loss: 1.120921, Train accuracy: 0.612778, val accuracy: 0.608000\n",
      "Loss: 1.329141, Train accuracy: 0.670556, val accuracy: 0.657000\n",
      "Loss: 0.840274, Train accuracy: 0.690667, val accuracy: 0.644000\n",
      "Loss: 1.081798, Train accuracy: 0.732111, val accuracy: 0.700000\n",
      "Loss: 0.778580, Train accuracy: 0.751000, val accuracy: 0.705000\n",
      "Loss: 0.751482, Train accuracy: 0.776222, val accuracy: 0.708000\n",
      "Loss: 0.779967, Train accuracy: 0.797000, val accuracy: 0.714000\n",
      "Loss: 0.865790, Train accuracy: 0.790333, val accuracy: 0.706000\n",
      "\n",
      "Cycle 2...\n",
      "Loss: 2.299718, Train accuracy: 0.196667, val accuracy: 0.206000\n",
      "Loss: 2.301915, Train accuracy: 0.196667, val accuracy: 0.206000\n",
      "Loss: 2.291867, Train accuracy: 0.196667, val accuracy: 0.206000\n",
      "Loss: 2.297373, Train accuracy: 0.196667, val accuracy: 0.206000\n",
      "Loss: 2.292252, Train accuracy: 0.196667, val accuracy: 0.206000\n",
      "Loss: 2.295963, Train accuracy: 0.196667, val accuracy: 0.206000\n",
      "Loss: 2.287436, Train accuracy: 0.196667, val accuracy: 0.206000\n",
      "Loss: 2.293917, Train accuracy: 0.196667, val accuracy: 0.206000\n",
      "Loss: 2.293381, Train accuracy: 0.196667, val accuracy: 0.206000\n",
      "Loss: 2.270539, Train accuracy: 0.196667, val accuracy: 0.206000\n",
      "\n",
      "Cycle 3...\n",
      "Loss: 2.285749, Train accuracy: 0.196667, val accuracy: 0.206000\n",
      "Loss: 2.288601, Train accuracy: 0.196667, val accuracy: 0.206000\n",
      "Loss: 2.265138, Train accuracy: 0.196667, val accuracy: 0.206000\n",
      "Loss: 2.285464, Train accuracy: 0.196667, val accuracy: 0.206000\n",
      "Loss: 2.236577, Train accuracy: 0.196667, val accuracy: 0.206000\n",
      "Loss: 2.216464, Train accuracy: 0.196667, val accuracy: 0.206000\n",
      "Loss: 2.206824, Train accuracy: 0.196667, val accuracy: 0.206000\n",
      "Loss: 2.240543, Train accuracy: 0.196667, val accuracy: 0.206000\n",
      "Loss: 2.287682, Train accuracy: 0.196667, val accuracy: 0.206000\n",
      "Loss: 2.183651, Train accuracy: 0.196667, val accuracy: 0.206000\n",
      "\n",
      "Cycle 4...\n",
      "Loss: 2.289481, Train accuracy: 0.196667, val accuracy: 0.206000\n",
      "Loss: 2.267915, Train accuracy: 0.196667, val accuracy: 0.206000\n",
      "Loss: 2.280428, Train accuracy: 0.196667, val accuracy: 0.206000\n",
      "Loss: 2.253066, Train accuracy: 0.196667, val accuracy: 0.206000\n",
      "Loss: 2.260665, Train accuracy: 0.196667, val accuracy: 0.206000\n",
      "Loss: 2.227853, Train accuracy: 0.196667, val accuracy: 0.206000\n",
      "Loss: 2.193014, Train accuracy: 0.196667, val accuracy: 0.206000\n",
      "Loss: 2.227517, Train accuracy: 0.196667, val accuracy: 0.206000\n",
      "Loss: 2.177601, Train accuracy: 0.196667, val accuracy: 0.206000\n",
      "Loss: 2.204838, Train accuracy: 0.196667, val accuracy: 0.206000\n",
      "\n",
      "Cycle 5...\n",
      "Loss: 2.284258, Train accuracy: 0.196667, val accuracy: 0.206000\n",
      "Loss: 2.280626, Train accuracy: 0.196667, val accuracy: 0.206000\n",
      "Loss: 2.241289, Train accuracy: 0.196667, val accuracy: 0.206000\n",
      "Loss: 2.299879, Train accuracy: 0.196667, val accuracy: 0.206000\n",
      "Loss: 2.271832, Train accuracy: 0.196667, val accuracy: 0.206000\n",
      "Loss: 2.198987, Train accuracy: 0.196667, val accuracy: 0.206000\n",
      "Loss: 2.258049, Train accuracy: 0.196667, val accuracy: 0.206000\n",
      "Loss: 2.257085, Train accuracy: 0.196667, val accuracy: 0.206000\n",
      "Loss: 2.215358, Train accuracy: 0.196667, val accuracy: 0.206000\n",
      "Loss: 2.290752, Train accuracy: 0.196667, val accuracy: 0.206000\n",
      "\n",
      "Cycle 6...\n",
      "Loss: 2.301442, Train accuracy: 0.196667, val accuracy: 0.206000\n",
      "Loss: 2.297956, Train accuracy: 0.196667, val accuracy: 0.206000\n",
      "Loss: 2.298399, Train accuracy: 0.196667, val accuracy: 0.206000\n",
      "Loss: 2.294312, Train accuracy: 0.196667, val accuracy: 0.206000\n",
      "Loss: 2.293496, Train accuracy: 0.196667, val accuracy: 0.206000\n",
      "Loss: 2.292349, Train accuracy: 0.196667, val accuracy: 0.206000\n",
      "Loss: 2.282809, Train accuracy: 0.196667, val accuracy: 0.206000\n",
      "Loss: 2.281548, Train accuracy: 0.196667, val accuracy: 0.206000\n",
      "Loss: 2.291464, Train accuracy: 0.196667, val accuracy: 0.206000\n",
      "Loss: 2.281447, Train accuracy: 0.196667, val accuracy: 0.206000\n",
      "\n",
      "Cycle 7...\n",
      "Loss: 2.284121, Train accuracy: 0.284778, val accuracy: 0.295000\n",
      "Loss: 2.307840, Train accuracy: 0.424222, val accuracy: 0.413000\n",
      "Loss: 2.264851, Train accuracy: 0.387556, val accuracy: 0.386000\n",
      "Loss: 2.155972, Train accuracy: 0.387111, val accuracy: 0.413000\n",
      "Loss: 2.237291, Train accuracy: 0.399333, val accuracy: 0.390000\n",
      "Loss: 2.026314, Train accuracy: 0.385778, val accuracy: 0.400000\n",
      "Loss: 2.199734, Train accuracy: 0.410889, val accuracy: 0.403000\n",
      "Loss: 2.051547, Train accuracy: 0.426778, val accuracy: 0.444000\n",
      "Loss: 2.099354, Train accuracy: 0.432889, val accuracy: 0.442000\n",
      "Loss: 1.891609, Train accuracy: 0.405556, val accuracy: 0.391000\n",
      "\n",
      "Cycle 8...\n",
      "Loss: 2.299085, Train accuracy: 0.196667, val accuracy: 0.206000\n",
      "Loss: 2.273592, Train accuracy: 0.196667, val accuracy: 0.206000\n",
      "Loss: 2.244183, Train accuracy: 0.196667, val accuracy: 0.206000\n",
      "Loss: 2.270496, Train accuracy: 0.196667, val accuracy: 0.206000\n",
      "Loss: 2.275267, Train accuracy: 0.196667, val accuracy: 0.206000\n",
      "Loss: 2.305833, Train accuracy: 0.196667, val accuracy: 0.206000\n",
      "Loss: 2.152772, Train accuracy: 0.196667, val accuracy: 0.206000\n",
      "Loss: 2.221488, Train accuracy: 0.196667, val accuracy: 0.206000\n",
      "Loss: 2.245378, Train accuracy: 0.196667, val accuracy: 0.206000\n",
      "Loss: 2.191875, Train accuracy: 0.196667, val accuracy: 0.206000\n",
      "\n",
      "Cycle 9...\n",
      "Loss: 2.296388, Train accuracy: 0.196667, val accuracy: 0.206000\n",
      "Loss: 2.287267, Train accuracy: 0.196667, val accuracy: 0.206000\n",
      "Loss: 2.269560, Train accuracy: 0.196667, val accuracy: 0.206000\n",
      "Loss: 2.161535, Train accuracy: 0.196667, val accuracy: 0.206000\n",
      "Loss: 2.286100, Train accuracy: 0.196667, val accuracy: 0.206000\n",
      "Loss: 2.277543, Train accuracy: 0.196667, val accuracy: 0.206000\n",
      "Loss: 2.118760, Train accuracy: 0.196667, val accuracy: 0.206000\n",
      "Loss: 2.248532, Train accuracy: 0.196667, val accuracy: 0.206000\n",
      "Loss: 2.113492, Train accuracy: 0.196667, val accuracy: 0.206000\n",
      "Loss: 2.232686, Train accuracy: 0.196667, val accuracy: 0.206000\n",
      "\n",
      "Cycle 10...\n",
      "Loss: 2.300344, Train accuracy: 0.196667, val accuracy: 0.206000\n",
      "Loss: 2.297595, Train accuracy: 0.196667, val accuracy: 0.206000\n",
      "Loss: 2.294123, Train accuracy: 0.196667, val accuracy: 0.206000\n",
      "Loss: 2.297371, Train accuracy: 0.196667, val accuracy: 0.206000\n",
      "Loss: 2.297922, Train accuracy: 0.196667, val accuracy: 0.206000\n",
      "Loss: 2.300587, Train accuracy: 0.196667, val accuracy: 0.206000\n",
      "Loss: 2.293866, Train accuracy: 0.196667, val accuracy: 0.206000\n",
      "Loss: 2.288588, Train accuracy: 0.196667, val accuracy: 0.206000\n",
      "Loss: 2.287051, Train accuracy: 0.196667, val accuracy: 0.206000\n",
      "Loss: 2.292695, Train accuracy: 0.196667, val accuracy: 0.206000\n",
      "\n",
      "Cycle 11...\n",
      "Loss: 2.301056, Train accuracy: 0.196667, val accuracy: 0.206000\n",
      "Loss: 2.264050, Train accuracy: 0.196667, val accuracy: 0.206000\n",
      "Loss: 2.269664, Train accuracy: 0.196667, val accuracy: 0.206000\n",
      "Loss: 2.230690, Train accuracy: 0.196667, val accuracy: 0.206000\n",
      "Loss: 2.281601, Train accuracy: 0.196667, val accuracy: 0.206000\n",
      "Loss: 2.227946, Train accuracy: 0.196667, val accuracy: 0.206000\n",
      "Loss: 2.282701, Train accuracy: 0.196667, val accuracy: 0.206000\n",
      "Loss: 2.220838, Train accuracy: 0.196667, val accuracy: 0.206000\n",
      "Loss: 2.254841, Train accuracy: 0.196667, val accuracy: 0.206000\n",
      "Loss: 2.181761, Train accuracy: 0.196667, val accuracy: 0.206000\n",
      "\n",
      "Cycle 12...\n",
      "Loss: 1.834417, Train accuracy: 0.422333, val accuracy: 0.408000\n",
      "Loss: 1.845787, Train accuracy: 0.567222, val accuracy: 0.572000\n",
      "Loss: 0.945057, Train accuracy: 0.629000, val accuracy: 0.608000\n",
      "Loss: 1.685196, Train accuracy: 0.622111, val accuracy: 0.592000\n",
      "Loss: 1.672546, Train accuracy: 0.635444, val accuracy: 0.595000\n",
      "Loss: 1.462631, Train accuracy: 0.678889, val accuracy: 0.648000\n",
      "Loss: 1.413091, Train accuracy: 0.696556, val accuracy: 0.659000\n",
      "Loss: 1.383589, Train accuracy: 0.682444, val accuracy: 0.614000\n",
      "Loss: 1.472430, Train accuracy: 0.699111, val accuracy: 0.641000\n",
      "Loss: 2.273321, Train accuracy: 0.728556, val accuracy: 0.639000\n",
      "\n",
      "Cycle 13...\n",
      "Loss: 2.214479, Train accuracy: 0.196667, val accuracy: 0.206000\n",
      "Loss: 2.216009, Train accuracy: 0.196667, val accuracy: 0.206000\n",
      "Loss: 2.144033, Train accuracy: 0.196667, val accuracy: 0.206000\n",
      "Loss: 2.067461, Train accuracy: 0.248778, val accuracy: 0.258000\n",
      "Loss: 2.010834, Train accuracy: 0.333667, val accuracy: 0.337000\n",
      "Loss: 1.570068, Train accuracy: 0.396000, val accuracy: 0.390000\n",
      "Loss: 1.826131, Train accuracy: 0.485444, val accuracy: 0.475000\n",
      "Loss: 1.429210, Train accuracy: 0.546667, val accuracy: 0.546000\n",
      "Loss: 1.284771, Train accuracy: 0.595889, val accuracy: 0.603000\n",
      "Loss: 1.059006, Train accuracy: 0.634333, val accuracy: 0.627000\n",
      "\n",
      "Cycle 14...\n",
      "Loss: 2.290688, Train accuracy: 0.196667, val accuracy: 0.206000\n",
      "Loss: 2.242963, Train accuracy: 0.196667, val accuracy: 0.206000\n",
      "Loss: 2.245212, Train accuracy: 0.196667, val accuracy: 0.206000\n",
      "Loss: 2.261929, Train accuracy: 0.196667, val accuracy: 0.206000\n",
      "Loss: 2.240048, Train accuracy: 0.196667, val accuracy: 0.206000\n",
      "Loss: 2.299233, Train accuracy: 0.196667, val accuracy: 0.206000\n",
      "Loss: 2.213724, Train accuracy: 0.196667, val accuracy: 0.206000\n",
      "Loss: 2.158093, Train accuracy: 0.196667, val accuracy: 0.206000\n",
      "Loss: 2.241466, Train accuracy: 0.196667, val accuracy: 0.206000\n",
      "Loss: 2.253669, Train accuracy: 0.196667, val accuracy: 0.206000\n",
      "\n",
      "Cycle 15...\n",
      "Loss: 2.301949, Train accuracy: 0.196667, val accuracy: 0.206000\n",
      "Loss: 2.297911, Train accuracy: 0.196667, val accuracy: 0.206000\n",
      "Loss: 2.296181, Train accuracy: 0.196667, val accuracy: 0.206000\n",
      "Loss: 2.298332, Train accuracy: 0.196667, val accuracy: 0.206000\n",
      "Loss: 2.293979, Train accuracy: 0.196667, val accuracy: 0.206000\n",
      "Loss: 2.297103, Train accuracy: 0.196667, val accuracy: 0.206000\n",
      "Loss: 2.295374, Train accuracy: 0.196667, val accuracy: 0.206000\n",
      "Loss: 2.292308, Train accuracy: 0.196667, val accuracy: 0.206000\n",
      "Loss: 2.280913, Train accuracy: 0.196667, val accuracy: 0.206000\n",
      "Loss: 2.290983, Train accuracy: 0.196667, val accuracy: 0.206000\n"
     ]
    }
   ],
   "source": [
    "from random import choice\n",
    "\n",
    "n_iterations = 15\n",
    "num_epochs = 10\n",
    "learning_rates = [1e-4, 1e-3, 1e-2, 1e-1]\n",
    "reg_strength = [1e-6, 1e-4, 1e-2]\n",
    "learning_rate_decay = [0.888, 0.995, 0.999]\n",
    "hidden_layer_size = [64, 128, 256]\n",
    "batch_size = [64]\n",
    "momentums = [0.1, 0.3, 0.5, 0.7, 0.9]\n",
    "\n",
    "best_classifier = None\n",
    "best_val_accuracy = 0\n",
    "best_params = {}\n",
    "\n",
    "loss_history = []\n",
    "train_history = []\n",
    "val_history = []\n",
    "\n",
    "# TODO find the best hyperparameters to train the network\n",
    "# Don't hesitate to add new values to the arrays above, perform experiments, use any tricks you want\n",
    "# You should expect to get to at least 40% of valudation accuracy\n",
    "# Save loss/train/history of the best classifier to the variables above\n",
    "for i in range(0, n_iterations):    \n",
    "    lr = choice(learning_rates)\n",
    "    reg = choice(reg_strength)\n",
    "    lrd = choice(learning_rate_decay)\n",
    "    hs = choice(hidden_layer_size)\n",
    "    bs = choice(batch_size)\n",
    "    momentum = choice(momentums)\n",
    "    \n",
    "    model = TwoLayerNet(n_input=train_X.shape[1], n_output=10,\n",
    "                        hidden_layer_size=hs, reg=reg)\n",
    "    dataset = Dataset(train_X, train_y, val_X, val_y)\n",
    "    trainer = Trainer(model, dataset, MomentumSGD(momentum=momentum), learning_rate=lr,\n",
    "                      learning_rate_decay=lrd, num_epochs=num_epochs, batch_size=bs)\n",
    "    \n",
    "    print()\n",
    "    print (\"Cycle {}...\".format(i+1))\n",
    "    loss_hist, train_hist, val_hist = trainer.fit()\n",
    "    \n",
    "    if val_hist[-1] > best_val_accuracy:\n",
    "        best_val_accuracy = val_hist[-1]\n",
    "        best_classifier = model\n",
    "        \n",
    "        best_params['learning_rate'] = lr\n",
    "        best_params['reg_strength'] = reg\n",
    "        best_params['learning_rate_decay'] = lrd\n",
    "        best_params['hidden_layer_size'] = hs\n",
    "        best_params['batch_size'] = bs\n",
    "        best_params['momentum'] = momentum\n",
    "        \n",
    "        loss_history = loss_hist\n",
    "        train_history = train_hist\n",
    "        val_history = val_hist"
   ]
  },
  {
   "cell_type": "code",
   "execution_count": 71,
   "metadata": {},
   "outputs": [
    {
     "data": {
      "text/plain": [
       "[<matplotlib.lines.Line2D at 0x2dd065839a0>]"
      ]
     },
     "execution_count": 71,
     "metadata": {},
     "output_type": "execute_result"
    },
    {
     "data": {
      "image/png": "[encoded data removed]",
      "text/plain": [
       "<Figure size 1080x504 with 2 Axes>"
      ]
     },
     "metadata": {
      "needs_background": "light"
     },
     "output_type": "display_data"
    }
   ],
   "source": [
    "plt.figure(figsize=(15, 7))\n",
    "plt.subplot(211)\n",
    "plt.title(\"Loss\")\n",
    "plt.plot(loss_history)\n",
    "plt.subplot(212)\n",
    "plt.title(\"Train/validation accuracy\")\n",
    "plt.plot(train_history)\n",
    "plt.plot(val_history)"
   ]
  },
  {
   "cell_type": "markdown",
   "metadata": {},
   "source": [
    "# Как обычно, посмотрим, как наша лучшая модель работает на тестовых данных"
   ]
  },
  {
   "cell_type": "code",
   "execution_count": null,
   "metadata": {},
   "outputs": [],
   "source": [
    "test_pred = best_classifier.predict(test_X)\n",
    "test_accuracy = multiclass_accuracy(test_pred, test_y)\n",
    "print('Neural net test set accuracy: %f' % (test_accuracy, ))"
   ]
  }
 ],
 "metadata": {
  "kernelspec": {
   "display_name": "Python 3 (ipykernel)",
   "language": "python",
   "name": "python3"
  },
  "language_info": {
   "codemirror_mode": {
    "name": "ipython",
    "version": 3
   },
   "file_extension": ".py",
   "mimetype": "text/x-python",
   "name": "python",
   "nbconvert_exporter": "python",
   "pygments_lexer": "ipython3",
   "version": "3.9.7"
  }
 },
 "nbformat": 4,
 "nbformat_minor": 4
}
